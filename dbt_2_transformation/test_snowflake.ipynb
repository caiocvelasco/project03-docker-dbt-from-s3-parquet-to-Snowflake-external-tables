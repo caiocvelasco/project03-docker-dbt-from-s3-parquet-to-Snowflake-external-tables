{
 "cells": [
  {
   "cell_type": "markdown",
   "metadata": {},
   "source": [
    "## Importing Libraries"
   ]
  },
  {
   "cell_type": "code",
   "execution_count": 1,
   "metadata": {},
   "outputs": [],
   "source": [
    "import os\n",
    "from dotenv import load_dotenv\n",
    "import snowflake.connector"
   ]
  },
  {
   "cell_type": "markdown",
   "metadata": {},
   "source": [
    "## Setting Up Snowflake Connection"
   ]
  },
  {
   "cell_type": "markdown",
   "metadata": {},
   "source": [
    "### Loading Environmental Variables"
   ]
  },
  {
   "cell_type": "code",
   "execution_count": 2,
   "metadata": {},
   "outputs": [],
   "source": [
    "# Load environment variables from the .env file\n",
    "load_dotenv()\n",
    "\n",
    "# Fetch Snowflake credentials from environment variables\n",
    "snowflake_user = os.getenv('SNOWFLAKE_USER')\n",
    "snowflake_password = os.getenv('SNOWFLAKE_PASSWORD')\n",
    "snowflake_account = os.getenv('SNOWFLAKE_ACCOUNT')\n",
    "snowflake_warehouse = os.getenv('SNOWFLAKE_WAREHOUSE')\n",
    "snowflake_database = os.getenv('SNOWFLAKE_DATABASE')\n",
    "snowflake_schema_bronze = os.getenv('SNOWFLAKE_SCHEMA_BRONZE')\n",
    "snowflake_schema_silver = os.getenv('SNOWFLAKE_SCHEMA_SILVER')\n",
    "snowflake_schema_gold = os.getenv('SNOWFLAKE_SCHEMA_GOLD')\n"
   ]
  },
  {
   "cell_type": "markdown",
   "metadata": {},
   "source": [
    "### Creating Warehouse, Database, Schemas"
   ]
  },
  {
   "cell_type": "code",
   "execution_count": null,
   "metadata": {},
   "outputs": [],
   "source": [
    "# Establish the connection using a context manager\n",
    "with snowflake.connector.connect(\n",
    "    user=snowflake_user,\n",
    "    password=snowflake_password,\n",
    "    account=snowflake_account\n",
    ") as conn:\n",
    "    \n",
    "    # Create a cursor object using a context manager\n",
    "    with conn.cursor() as cur:\n",
    "        # Create warehouse\n",
    "        cur.execute(f\"\"\"\n",
    "        CREATE WAREHOUSE IF NOT EXISTS {snowflake_warehouse}\n",
    "          WITH WAREHOUSE_SIZE = 'XSMALL'\n",
    "          AUTO_SUSPEND = 300\n",
    "          AUTO_RESUME = TRUE\n",
    "          INITIALLY_SUSPENDED = TRUE;\n",
    "        \"\"\")\n",
    "        \n",
    "        # Create database\n",
    "        cur.execute(f\"CREATE DATABASE IF NOT EXISTS {snowflake_database};\")\n",
    "        \n",
    "        # Use the created database\n",
    "        cur.execute(f\"USE DATABASE {snowflake_database};\")\n",
    "        \n",
    "        # Create schemas\n",
    "        cur.execute(f\"CREATE SCHEMA IF NOT EXISTS {snowflake_schema_bronze};\")\n",
    "        cur.execute(f\"CREATE SCHEMA IF NOT EXISTS {snowflake_schema_silver};\")\n",
    "        cur.execute(f\"CREATE SCHEMA IF NOT EXISTS {snowflake_schema_gold};\")\n",
    "\n",
    "# No need to explicitly close the cursor and connection, as the context manager handles it."
   ]
  },
  {
   "cell_type": "markdown",
   "metadata": {},
   "source": [
    "### Constructing the Connection String"
   ]
  },
  {
   "cell_type": "code",
   "execution_count": 5,
   "metadata": {},
   "outputs": [
    {
     "name": "stdout",
     "output_type": "stream",
     "text": [
      "account=ucjrtut-qa68925;user=cvconsulting;password=992277@Ccv;warehouse=my_dbt_warehouse;database=my_dbt_database;schema=bronze\n"
     ]
    }
   ],
   "source": [
    "# Construct the connection string\n",
    "conn_string = f\"account={snowflake_account};\" \\\n",
    "              f\"user={snowflake_user};\" \\\n",
    "              f\"password={snowflake_password};\" \\\n",
    "              f\"warehouse={snowflake_warehouse};\" \\\n",
    "              f\"database={snowflake_database};\" \\\n",
    "              f\"schema={snowflake_schema_bronze}\"\n",
    "\n",
    "print(conn_string)"
   ]
  },
  {
   "cell_type": "markdown",
   "metadata": {},
   "source": [
    "### Checking if Warehouse, Database, Schemas exist"
   ]
  },
  {
   "cell_type": "code",
   "execution_count": 3,
   "metadata": {},
   "outputs": [
    {
     "name": "stdout",
     "output_type": "stream",
     "text": [
      "Warehouses:\n",
      "('COMPUTE_WH', 'SUSPENDED', 'STANDARD', 'X-Small', 1, 1, 0, 0, 0, 'Y', 'N', 600, 'true', '', '', '', '', datetime.datetime(2024, 7, 15, 2, 17, 16, 787000, tzinfo=<DstTzInfo 'America/Los_Angeles' PDT-1 day, 17:00:00 DST>), datetime.datetime(2024, 7, 15, 3, 10, 26, 250000, tzinfo=<DstTzInfo 'America/Los_Angeles' PDT-1 day, 17:00:00 DST>), datetime.datetime(2024, 7, 15, 3, 10, 26, 250000, tzinfo=<DstTzInfo 'America/Los_Angeles' PDT-1 day, 17:00:00 DST>), 'ACCOUNTADMIN', '', 'false', 8, 'null', 0, 0, 0, 1, '9054468', 'STANDARD', None, 'ROLE')\n",
      "('MY_DBT_WAREHOUSE', 'SUSPENDED', 'STANDARD', 'X-Small', 1, 1, 0, 0, 0, 'N', 'Y', 300, 'true', '', '', '', '', datetime.datetime(2024, 7, 15, 3, 30, 39, 437000, tzinfo=<DstTzInfo 'America/Los_Angeles' PDT-1 day, 17:00:00 DST>), datetime.datetime(2024, 7, 15, 3, 30, 39, 437000, tzinfo=<DstTzInfo 'America/Los_Angeles' PDT-1 day, 17:00:00 DST>), datetime.datetime(2024, 7, 15, 3, 30, 39, 571000, tzinfo=<DstTzInfo 'America/Los_Angeles' PDT-1 day, 17:00:00 DST>), 'ACCOUNTADMIN', '', 'false', 8, 'null', 0, 0, 0, 1, '9054472', 'STANDARD', None, 'ROLE')\n",
      "\n",
      "Databases:\n",
      "(datetime.datetime(2024, 7, 15, 3, 30, 39, 734000, tzinfo=<DstTzInfo 'America/Los_Angeles' PDT-1 day, 17:00:00 DST>), 'MY_DBT_DATABASE', 'N', 'Y', '', 'ACCOUNTADMIN', '', '', '1', 'STANDARD', None, 'ROLE')\n",
      "(datetime.datetime(2024, 7, 15, 2, 15, 10, 303000, tzinfo=<DstTzInfo 'America/Los_Angeles' PDT-1 day, 17:00:00 DST>), 'SNOWFLAKE', 'N', 'N', 'SNOWFLAKE.ACCOUNT_USAGE', '', '', '', '0', 'APPLICATION', None, '')\n",
      "(datetime.datetime(2024, 7, 15, 2, 15, 17, 4000, tzinfo=<DstTzInfo 'America/Los_Angeles' PDT-1 day, 17:00:00 DST>), 'SNOWFLAKE_SAMPLE_DATA', 'N', 'N', 'SFSALESSHARED.SFC_SAMPLES_AWSEUNORTH1.SAMPLE_DATA', 'ACCOUNTADMIN', 'Preloaded TPCH Data provided by Snowflake during account provisioning', '', '0', 'IMPORTED DATABASE', None, 'ROLE')\n",
      "\n",
      "Schemas:\n",
      "(datetime.datetime(2024, 7, 15, 3, 30, 40, 43000, tzinfo=<DstTzInfo 'America/Los_Angeles' PDT-1 day, 17:00:00 DST>), 'BRONZE', 'N', 'N', 'MY_DBT_DATABASE', 'ACCOUNTADMIN', '', '', '1', 'ROLE', None)\n",
      "(datetime.datetime(2024, 7, 15, 3, 30, 40, 323000, tzinfo=<DstTzInfo 'America/Los_Angeles' PDT-1 day, 17:00:00 DST>), 'GOLD', 'N', 'N', 'MY_DBT_DATABASE', 'ACCOUNTADMIN', '', '', '1', 'ROLE', None)\n",
      "(datetime.datetime(2024, 7, 15, 3, 34, 17, 999000, tzinfo=<DstTzInfo 'America/Los_Angeles' PDT-1 day, 17:00:00 DST>), 'INFORMATION_SCHEMA', 'N', 'N', 'MY_DBT_DATABASE', '', 'Views describing the contents of schemas in this database', '', '1', '', None)\n",
      "(datetime.datetime(2024, 7, 15, 3, 30, 39, 756000, tzinfo=<DstTzInfo 'America/Los_Angeles' PDT-1 day, 17:00:00 DST>), 'PUBLIC', 'N', 'N', 'MY_DBT_DATABASE', 'ACCOUNTADMIN', '', '', '1', 'ROLE', None)\n",
      "(datetime.datetime(2024, 7, 15, 3, 30, 40, 191000, tzinfo=<DstTzInfo 'America/Los_Angeles' PDT-1 day, 17:00:00 DST>), 'SILVER', 'N', 'N', 'MY_DBT_DATABASE', 'ACCOUNTADMIN', '', '', '1', 'ROLE', None)\n"
     ]
    }
   ],
   "source": [
    "# Establish connection to Snowflake using a context manager\n",
    "with snowflake.connector.connect(\n",
    "    user=snowflake_user,\n",
    "    password=snowflake_password,\n",
    "    account=snowflake_account,\n",
    "    warehouse=snowflake_warehouse,\n",
    "    database=snowflake_database\n",
    ") as conn:\n",
    "    # Create a cursor object using a context manager\n",
    "    with conn.cursor() as cur:\n",
    "        # Query to show warehouses\n",
    "        query_warehouses = \"SHOW WAREHOUSES;\"\n",
    "        cur.execute(query_warehouses)\n",
    "        warehouses = cur.fetchall()\n",
    "\n",
    "        print(\"Warehouses:\")\n",
    "        for warehouse in warehouses:\n",
    "            print(warehouse)\n",
    "\n",
    "        # Query to show databases\n",
    "        query_databases = \"SHOW DATABASES;\"\n",
    "        cur.execute(query_databases)\n",
    "        databases = cur.fetchall()\n",
    "\n",
    "        print(\"\\nDatabases:\")\n",
    "        for database in databases:\n",
    "            print(database)\n",
    "\n",
    "        # Query to show schemas in a specific database (replace <database_name>)\n",
    "        query_schemas = f\"SHOW SCHEMAS IN DATABASE {snowflake_database};\"\n",
    "        cur.execute(query_schemas)\n",
    "        schemas = cur.fetchall()\n",
    "\n",
    "        print(\"\\nSchemas:\")\n",
    "        for schema in schemas:\n",
    "            print(schema)\n",
    "\n",
    "# The connection and cursor are automatically closed when exiting the 'with' blocks"
   ]
  }
 ],
 "metadata": {
  "kernelspec": {
   "display_name": "Python 3",
   "language": "python",
   "name": "python3"
  },
  "language_info": {
   "codemirror_mode": {
    "name": "ipython",
    "version": 3
   },
   "file_extension": ".py",
   "mimetype": "text/x-python",
   "name": "python",
   "nbconvert_exporter": "python",
   "pygments_lexer": "ipython3",
   "version": "3.9.13"
  }
 },
 "nbformat": 4,
 "nbformat_minor": 2
}
